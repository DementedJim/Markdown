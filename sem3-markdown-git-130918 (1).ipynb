{
 "cells": [
  {
   "cell_type": "markdown",
   "metadata": {},
   "source": [
    "## Иванов Дмитрий##\n",
    "\n",
    "* Adope Photoshop, Illustrator (занимался дизайном баннеров и рекламной продукции)\n",
    "* Языки программирования C/C#\n",
    "\n",
    "[Ссылка на github](https://github.com/DementedJim)\n",
    "\n",
    "![Здесь могла быть мотивация](https://memepedia.ru/wp-content/uploads/2017/05/%D0%BC%D0%B5%D0%BC-this-is-fine.png)"
   ]
  }
 ],
 "metadata": {
  "kernelspec": {
   "display_name": "Python 3",
   "language": "python",
   "name": "python3"
  },
  "language_info": {
   "codemirror_mode": {
    "name": "ipython",
    "version": 3
   },
   "file_extension": ".py",
   "mimetype": "text/x-python",
   "name": "python",
   "nbconvert_exporter": "python",
   "pygments_lexer": "ipython3",
   "version": "3.6.5"
  }
 },
 "nbformat": 4,
 "nbformat_minor": 2
}
